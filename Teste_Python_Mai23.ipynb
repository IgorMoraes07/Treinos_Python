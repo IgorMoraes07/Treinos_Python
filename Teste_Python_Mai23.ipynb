{
 "cells": [
  {
   "cell_type": "code",
   "execution_count": 35,
   "id": "1e398247",
   "metadata": {},
   "outputs": [],
   "source": [
    "#Espaço para Imports"
   ]
  },
  {
   "cell_type": "markdown",
   "id": "8ef61ef0",
   "metadata": {},
   "source": [
    "Testes com INPUT"
   ]
  },
  {
   "cell_type": "code",
   "execution_count": 1,
   "id": "475ef157",
   "metadata": {},
   "outputs": [
    {
     "name": "stdout",
     "output_type": "stream",
     "text": [
      "Qual é seu nome: Darth Vader\n",
      "Meu nome é Darth Vader\n"
     ]
    }
   ],
   "source": [
    "nome = input('Qual é seu nome: ')\n",
    "print('Meu nome é ' + nome)"
   ]
  },
  {
   "cell_type": "code",
   "execution_count": 2,
   "id": "0956d930",
   "metadata": {},
   "outputs": [
    {
     "name": "stdout",
     "output_type": "stream",
     "text": [
      "Qual é sua idade: 55\n",
      "Tenho 55\n"
     ]
    }
   ],
   "source": [
    "idade = int(input('Qual é sua idade: '))\n",
    "print('Tenho ' + str(idade))"
   ]
  },
  {
   "cell_type": "markdown",
   "id": "1c21191f",
   "metadata": {},
   "source": [
    "Testes com IF"
   ]
  },
  {
   "cell_type": "code",
   "execution_count": 3,
   "id": "f0a83429",
   "metadata": {},
   "outputs": [
    {
     "name": "stdout",
     "output_type": "stream",
     "text": [
      "Pode ver filmes classificados em R\n"
     ]
    }
   ],
   "source": [
    "if idade > 18:\n",
    "    print('Pode ver filmes classificados em R')\n",
    "elif idade < 17 and idade > 12:\n",
    "    print('Pode ver apenas filmes PG-13')\n",
    "else:\n",
    "    print('Pode apenas ver filmes PG')"
   ]
  },
  {
   "cell_type": "code",
   "execution_count": 4,
   "id": "c52918ee",
   "metadata": {},
   "outputs": [],
   "source": [
    "var = 3"
   ]
  },
  {
   "cell_type": "code",
   "execution_count": 5,
   "id": "d5130bab",
   "metadata": {},
   "outputs": [
    {
     "name": "stdout",
     "output_type": "stream",
     "text": [
      "A variável é igual a 3\n"
     ]
    }
   ],
   "source": [
    "if var == 3:\n",
    "    print('A variável é igual a 3')\n",
    "elif var != 3:\n",
    "    print('A variável é maior ou menor que 3')"
   ]
  },
  {
   "cell_type": "code",
   "execution_count": 6,
   "id": "c24f3ee5",
   "metadata": {},
   "outputs": [],
   "source": [
    "nivel = 43"
   ]
  },
  {
   "cell_type": "code",
   "execution_count": 7,
   "id": "7a51d025",
   "metadata": {},
   "outputs": [
    {
     "name": "stdout",
     "output_type": "stream",
     "text": [
      "Está abaixo do nível\n"
     ]
    }
   ],
   "source": [
    "if nivel == 51:\n",
    "    print('Atingiu o nível')\n",
    "elif nivel < 51:\n",
    "    print('Está abaixo do nível')\n",
    "elif nivel > 51:\n",
    "    print('Está acima do nível')"
   ]
  },
  {
   "cell_type": "markdown",
   "id": "7c473b12",
   "metadata": {},
   "source": [
    "Teste de Listas"
   ]
  },
  {
   "cell_type": "code",
   "execution_count": 8,
   "id": "4e43e11e",
   "metadata": {},
   "outputs": [],
   "source": [
    "a = [1, 1, 2, 3, 5, 8, 13, 21, 34, 55, 89]"
   ]
  },
  {
   "cell_type": "code",
   "execution_count": 9,
   "id": "97e46772",
   "metadata": {},
   "outputs": [],
   "source": [
    "x = []"
   ]
  },
  {
   "cell_type": "code",
   "execution_count": 10,
   "id": "4ec155c5",
   "metadata": {},
   "outputs": [
    {
     "data": {
      "text/plain": [
       "[3]"
      ]
     },
     "execution_count": 10,
     "metadata": {},
     "output_type": "execute_result"
    }
   ],
   "source": [
    "x.append(3)\n",
    "x"
   ]
  },
  {
   "cell_type": "code",
   "execution_count": 11,
   "id": "e1995fd8",
   "metadata": {},
   "outputs": [
    {
     "name": "stdout",
     "output_type": "stream",
     "text": [
      "1\n",
      "2\n",
      "Michele\n",
      "[5, 6, 7]\n"
     ]
    }
   ],
   "source": [
    "minha_lista = [1, 2, 'Michele', [5, 6, 7]]\n",
    "for elemento in minha_lista:\n",
    "    print(elemento)"
   ]
  },
  {
   "cell_type": "code",
   "execution_count": 12,
   "id": "9919ef27",
   "metadata": {},
   "outputs": [
    {
     "name": "stdout",
     "output_type": "stream",
     "text": [
      "Digite sua nota: 74\n",
      "C\n"
     ]
    }
   ],
   "source": [
    "nota = int(input('Digite sua nota: '))\n",
    "if nota >= 90:\n",
    "    print('A')\n",
    "elif nota >= 80:\n",
    "    print('B')\n",
    "elif nota >= 70:\n",
    "    print('C')\n",
    "elif nota >= 65:\n",
    "    print('D')\n",
    "else:\n",
    "    print('E')"
   ]
  },
  {
   "cell_type": "markdown",
   "id": "2a112c9d",
   "metadata": {},
   "source": [
    "Divisores"
   ]
  },
  {
   "cell_type": "code",
   "execution_count": 13,
   "id": "931fc0d5",
   "metadata": {},
   "outputs": [],
   "source": [
    "x = range(2, 11)"
   ]
  },
  {
   "cell_type": "code",
   "execution_count": 14,
   "id": "88893cef",
   "metadata": {},
   "outputs": [
    {
     "name": "stdout",
     "output_type": "stream",
     "text": [
      "2\n",
      "3\n",
      "4\n",
      "5\n",
      "6\n",
      "7\n",
      "8\n",
      "9\n",
      "10\n"
     ]
    }
   ],
   "source": [
    "for var in x:\n",
    "    print(var)"
   ]
  },
  {
   "cell_type": "markdown",
   "id": "456f18c5",
   "metadata": {},
   "source": [
    "Sobreposição de Listas"
   ]
  },
  {
   "cell_type": "code",
   "execution_count": 15,
   "id": "abda5901",
   "metadata": {},
   "outputs": [],
   "source": [
    "a = [1, 1, 2, 3, 5, 8, 13, 21, 34, 55, 89]\n",
    "b = [1, 2, 3, 4, 5, 6, 7, 8, 9, 10, 11, 12, 13]"
   ]
  },
  {
   "cell_type": "code",
   "execution_count": 16,
   "id": "9b385a37",
   "metadata": {},
   "outputs": [
    {
     "data": {
      "text/plain": [
       "True"
      ]
     },
     "execution_count": 16,
     "metadata": {},
     "output_type": "execute_result"
    }
   ],
   "source": [
    "a = [5, 10, 15, 20]\n",
    "10 in a"
   ]
  },
  {
   "cell_type": "code",
   "execution_count": 17,
   "id": "84f65c0f",
   "metadata": {},
   "outputs": [
    {
     "data": {
      "text/plain": [
       "False"
      ]
     },
     "execution_count": 17,
     "metadata": {},
     "output_type": "execute_result"
    }
   ],
   "source": [
    "3 in a"
   ]
  },
  {
   "cell_type": "code",
   "execution_count": 20,
   "id": "a6186893",
   "metadata": {},
   "outputs": [],
   "source": [
    "a = [5, 10, 15, 20, 25, 30, 35, 40]"
   ]
  },
  {
   "cell_type": "code",
   "execution_count": 21,
   "id": "fd66901b",
   "metadata": {},
   "outputs": [
    {
     "data": {
      "text/plain": [
       "[10, 15, 20]"
      ]
     },
     "execution_count": 21,
     "metadata": {},
     "output_type": "execute_result"
    }
   ],
   "source": [
    "a[1:4]"
   ]
  },
  {
   "cell_type": "code",
   "execution_count": 22,
   "id": "721d3592",
   "metadata": {},
   "outputs": [
    {
     "data": {
      "text/plain": [
       "[35, 40]"
      ]
     },
     "execution_count": 22,
     "metadata": {},
     "output_type": "execute_result"
    }
   ],
   "source": [
    "a[6:]"
   ]
  },
  {
   "cell_type": "code",
   "execution_count": 23,
   "id": "90957e7d",
   "metadata": {},
   "outputs": [
    {
     "data": {
      "text/plain": [
       "[5, 10, 15, 20, 25, 30, 35]"
      ]
     },
     "execution_count": 23,
     "metadata": {},
     "output_type": "execute_result"
    }
   ],
   "source": [
    "a[:-1]"
   ]
  },
  {
   "cell_type": "code",
   "execution_count": 24,
   "id": "201132e1",
   "metadata": {},
   "outputs": [
    {
     "data": {
      "text/plain": [
       "[10, 20]"
      ]
     },
     "execution_count": 24,
     "metadata": {},
     "output_type": "execute_result"
    }
   ],
   "source": [
    "a[1:5:2]"
   ]
  },
  {
   "cell_type": "code",
   "execution_count": 25,
   "id": "d6d6a07a",
   "metadata": {},
   "outputs": [
    {
     "data": {
      "text/plain": [
       "[20, 15, 10]"
      ]
     },
     "execution_count": 25,
     "metadata": {},
     "output_type": "execute_result"
    }
   ],
   "source": [
    "a[3:0:-1]"
   ]
  },
  {
   "cell_type": "code",
   "execution_count": 27,
   "id": "4ec853fa",
   "metadata": {},
   "outputs": [
    {
     "name": "stdout",
     "output_type": "stream",
     "text": [
      "Uma letra: e\n",
      "Uma letra: x\n",
      "Uma letra: a\n",
      "Uma letra: m\n",
      "Uma letra: p\n",
      "Uma letra: l\n",
      "Uma letra: e\n"
     ]
    }
   ],
   "source": [
    "string = 'example'\n",
    "for c in string:\n",
    "    print ('Uma letra: '+ c)"
   ]
  },
  {
   "cell_type": "code",
   "execution_count": 29,
   "id": "9b352365",
   "metadata": {},
   "outputs": [
    {
     "name": "stdout",
     "output_type": "stream",
     "text": [
      "examp\n"
     ]
    }
   ],
   "source": [
    "s = string[0:5]\n",
    "print(s)"
   ]
  },
  {
   "cell_type": "markdown",
   "id": "b8bf60e6",
   "metadata": {},
   "source": [
    "Compreensão sobre Listas"
   ]
  },
  {
   "cell_type": "code",
   "execution_count": 30,
   "id": "8233dd92",
   "metadata": {},
   "outputs": [],
   "source": [
    "ano_nascimento = [1990, 1991, 1990, 1990, 1992, 1991]\n",
    "idades = []\n",
    "for ano in ano_nascimento:\n",
    "    idades.append(2014 - ano)"
   ]
  },
  {
   "cell_type": "code",
   "execution_count": 34,
   "id": "3631fa7b",
   "metadata": {},
   "outputs": [
    {
     "data": {
      "text/plain": [
       "[24, 23, 24, 24, 22, 23]"
      ]
     },
     "execution_count": 34,
     "metadata": {},
     "output_type": "execute_result"
    }
   ],
   "source": [
    "idades"
   ]
  },
  {
   "cell_type": "code",
   "execution_count": null,
   "id": "d6e88069",
   "metadata": {},
   "outputs": [],
   "source": []
  },
  {
   "cell_type": "code",
   "execution_count": null,
   "id": "cfbd023a",
   "metadata": {},
   "outputs": [],
   "source": []
  }
 ],
 "metadata": {
  "kernelspec": {
   "display_name": "Python 3 (ipykernel)",
   "language": "python",
   "name": "python3"
  },
  "language_info": {
   "codemirror_mode": {
    "name": "ipython",
    "version": 3
   },
   "file_extension": ".py",
   "mimetype": "text/x-python",
   "name": "python",
   "nbconvert_exporter": "python",
   "pygments_lexer": "ipython3",
   "version": "3.9.13"
  }
 },
 "nbformat": 4,
 "nbformat_minor": 5
}
