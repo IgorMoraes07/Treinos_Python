{
 "cells": [
  {
   "cell_type": "code",
   "execution_count": 1,
   "id": "053d2182",
   "metadata": {},
   "outputs": [],
   "source": [
    "import sys"
   ]
  },
  {
   "cell_type": "markdown",
   "id": "176c9d3c",
   "metadata": {},
   "source": [
    "# Pedra, Papel e Tesoura"
   ]
  },
  {
   "cell_type": "markdown",
   "id": "fd7b4ae7",
   "metadata": {},
   "source": [
    "- Pedra vence Tesoura\n",
    "- Tesoura vence Papel\n",
    "- Papel vence Pedra"
   ]
  },
  {
   "cell_type": "markdown",
   "id": "ba1d66a2",
   "metadata": {},
   "source": [
    "Versão 1"
   ]
  },
  {
   "cell_type": "code",
   "execution_count": 2,
   "id": "fd7ac434",
   "metadata": {},
   "outputs": [
    {
     "name": "stdout",
     "output_type": "stream",
     "text": [
      "Qual seu nome Jogador 1? Pedra\n"
     ]
    }
   ],
   "source": [
    "Usuario1 = input('Qual seu nome Jogador 1? ')"
   ]
  },
  {
   "cell_type": "code",
   "execution_count": 3,
   "id": "bdd3ed9a",
   "metadata": {},
   "outputs": [
    {
     "name": "stdout",
     "output_type": "stream",
     "text": [
      "Qual seu nome Jogador 2? Papel\n"
     ]
    }
   ],
   "source": [
    "Usuario2 = input('Qual seu nome Jogador 2? ')"
   ]
  },
  {
   "cell_type": "code",
   "execution_count": 4,
   "id": "b61e6580",
   "metadata": {},
   "outputs": [
    {
     "name": "stdout",
     "output_type": "stream",
     "text": [
      "Pedra, Você escolhe Pedra, Papel ou Tesoura?Tesoura\n"
     ]
    }
   ],
   "source": [
    "Usuario1_Resposta = input('%s, Você escolhe Pedra, Papel ou Tesoura? ' % Usuario1)"
   ]
  },
  {
   "cell_type": "code",
   "execution_count": 5,
   "id": "d9e7514f",
   "metadata": {},
   "outputs": [
    {
     "name": "stdout",
     "output_type": "stream",
     "text": [
      "Papel, Você escolhe Pedra, Papel ou Tesoura?Papel\n"
     ]
    }
   ],
   "source": [
    "Usuario2_Resposta = input('%s, Você escolhe Pedra, Papel ou Tesoura? ' % Usuario2)"
   ]
  },
  {
   "cell_type": "code",
   "execution_count": 6,
   "id": "4efc93ab",
   "metadata": {},
   "outputs": [],
   "source": [
    "def compare(u1, u2):\n",
    "    if u1 == u2:\n",
    "        return('Empatou!!')\n",
    "    elif u1 == 'Pedra':\n",
    "        if u2 == 'Tesoura':\n",
    "            return('Pedra Vence !!!')\n",
    "        else:\n",
    "            return('Papel Vence !!!')\n",
    "    elif u1 == 'Tesoura':\n",
    "        if u2 == 'Papel':\n",
    "            return('Tesoura Vence !!!')\n",
    "        else:\n",
    "            return('Pedra vence !!!')\n",
    "    elif u1 == 'Papel':\n",
    "        if u2 == 'Pedra':\n",
    "            return('Papel Vence !!!')\n",
    "        else:\n",
    "            return('Tesoura vence !!!')\n",
    "    else:\n",
    "        return('Erro! Você NÃO escolheu Pedra, Papel ou Tesoura')\n",
    "        sys.exit()"
   ]
  },
  {
   "cell_type": "code",
   "execution_count": 7,
   "id": "512e5402",
   "metadata": {},
   "outputs": [
    {
     "name": "stdout",
     "output_type": "stream",
     "text": [
      "Tesoura Vence !!!\n"
     ]
    }
   ],
   "source": [
    "print(compare(Usuario1_Resposta, Usuario2_Resposta))"
   ]
  },
  {
   "cell_type": "markdown",
   "id": "7f09c14a",
   "metadata": {},
   "source": [
    "Versão 2"
   ]
  },
  {
   "cell_type": "code",
   "execution_count": 8,
   "id": "9c2835a7",
   "metadata": {},
   "outputs": [
    {
     "name": "stdout",
     "output_type": "stream",
     "text": [
      "Escolha um: [Pedra, Papel e Tesoura]\n"
     ]
    }
   ],
   "source": [
    "print('Escolha um: [Pedra, Papel e Tesoura]')"
   ]
  },
  {
   "cell_type": "code",
   "execution_count": 9,
   "id": "84d82d60",
   "metadata": {},
   "outputs": [
    {
     "name": "stdout",
     "output_type": "stream",
     "text": [
      "Jogador A Tesoura\n",
      "Jogador B Papel\n",
      "Jogador A Vence !!!\n",
      "Quer uma nova partida, Sim ou Nao? Sim\n",
      "Jogador A Pedra\n",
      "Jogador B Papel\n",
      "Jogador B Vence !!!\n",
      "Quer uma nova partida, Sim ou Nao? Nao\n",
      "Fim de Jogo !!!\n"
     ]
    }
   ],
   "source": [
    "while True:\n",
    "    game_dict = {'Pedra':1, 'Tesoura':2, 'Papel':3}\n",
    "    jogador_A = str(input('Jogador A '))\n",
    "    jogador_B = str(input('Jogador B '))\n",
    "    a = game_dict.get(jogador_A)\n",
    "    b = game_dict.get(jogador_B)\n",
    "    dif = a - b\n",
    "\n",
    "    if dif in [-1, 2]:\n",
    "        print('Jogador A Vence !!!')\n",
    "        if str(input('Quer uma nova partida, Sim ou Nao? ')) == 'Sim':\n",
    "            continue\n",
    "        else:\n",
    "            print('Fim de Jogo !!!')\n",
    "            break\n",
    "    elif dif in [-2, 1]:\n",
    "        print('Jogador B Vence !!!')\n",
    "        if str(input('Quer uma nova partida, Sim ou Nao? ')) == 'Sim':\n",
    "            continue\n",
    "        else:\n",
    "            print('Fim de Jogo !!!')\n",
    "            break\n",
    "    else:\n",
    "        print('Empatou! Por favor, continuem')\n",
    "        print('')"
   ]
  },
  {
   "cell_type": "code",
   "execution_count": null,
   "id": "91ba1b13",
   "metadata": {},
   "outputs": [],
   "source": []
  }
 ],
 "metadata": {
  "kernelspec": {
   "display_name": "Python 3 (ipykernel)",
   "language": "python",
   "name": "python3"
  },
  "language_info": {
   "codemirror_mode": {
    "name": "ipython",
    "version": 3
   },
   "file_extension": ".py",
   "mimetype": "text/x-python",
   "name": "python",
   "nbconvert_exporter": "python",
   "pygments_lexer": "ipython3",
   "version": "3.9.13"
  }
 },
 "nbformat": 4,
 "nbformat_minor": 5
}
